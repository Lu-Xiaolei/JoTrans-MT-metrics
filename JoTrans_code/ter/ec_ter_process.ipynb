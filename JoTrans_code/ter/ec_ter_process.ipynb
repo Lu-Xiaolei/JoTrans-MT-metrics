{
 "cells": [
  {
   "cell_type": "code",
   "execution_count": null,
   "metadata": {},
   "outputs": [],
   "source": [
    "import os\n",
    "import nltk\n",
    "import pyter\n",
    "from nltk.tokenize import RegexpTokenizer\n",
    "\n",
    "tokenizer = RegexpTokenizer(r'\\w+')"
   ]
  },
  {
   "cell_type": "code",
   "execution_count": null,
   "metadata": {},
   "outputs": [],
   "source": [
    "def cut(s):\n",
    "    s_ = \"\".join(tokenizer.tokenize(s))\n",
    "    lst = []\n",
    "    temp = ''\n",
    "    for c in s_:\n",
    "        if '\\u4e00' <= c <= '\\u9fff':\n",
    "            if temp != '':\n",
    "                lst.append(temp)\n",
    "                temp = ''\n",
    "            lst.append(c)\n",
    "        else:\n",
    "            temp += c\n",
    "    return \" \".join(lst)"
   ]
  },
  {
   "cell_type": "code",
   "execution_count": null,
   "metadata": {},
   "outputs": [],
   "source": [
    "refs = []\n",
    "with open(\"./data/references/EC/1.EC ref.txt\", encoding=\"utf8\") as f:\n",
    "    refs.append(f.readlines())\n",
    "with open(\"./data/references/EC/2.EC ref.txt\", encoding=\"utf8\") as f:\n",
    "    refs.append(f.readlines())\n",
    "with open(\"./data/references/EC/3.EC ref.txt\", encoding=\"utf8\") as f:\n",
    "    refs.append(f.readlines())\n",
    "\n",
    "p_refs = []\n",
    "n=0\n",
    "for ref in refs:\n",
    "    t = []\n",
    "    n+=1\n",
    "    for s in ref:\n",
    "        if len(s)>1:\n",
    "            a=s[s.index(\".\")+1:].strip().lower()\n",
    "            t.append(cut(a))\n",
    "    p_refs.append(t)\n",
    "refs = p_refs\n",
    "  \n",
    "file_path = \"./data/E-to-C-Sentence/\"\n",
    "\n",
    "files = []\n",
    "for i,j,k in os.walk(file_path):\n",
    "    files.extend(k)"
   ]
  },
  {
   "cell_type": "code",
   "execution_count": null,
   "metadata": {},
   "outputs": [],
   "source": [
    "files"
   ]
  },
  {
   "cell_type": "code",
   "execution_count": null,
   "metadata": {},
   "outputs": [],
   "source": [
    "for l in range(len(refs[0])):\n",
    "    for r in refs:\n",
    "        with open(\"3ref_ec.txt\", \"a\") as f:\n",
    "            f.write(cut(r[l])+\"(\" +str(l)+\")\\n\")"
   ]
  },
  {
   "cell_type": "code",
   "execution_count": null,
   "metadata": {},
   "outputs": [],
   "source": [
    "for fn in files:\n",
    "    with open(file_path+fn, \"r\", encoding=\"utf8\") as f:\n",
    "        pgs = f.readlines()\n",
    "        pgs_up = []\n",
    "        for pg in pgs:\n",
    "            n+=1\n",
    "            if len(pg)>1:\n",
    "                a=pg[pg.index(\".\")+1:].strip().lower()\n",
    "            pgs_up.append(cut(a))\n",
    "        i = 0\n",
    "        for p in pgs_up:\n",
    "            with open(\"./ter_ec/\"+fn,\"a\", encoding=\"utf8\") as f:\n",
    "                f.write(p+\"(\"+str(i)+\")\"+\"\\n\")\n",
    "                i+=1"
   ]
  },
  {
   "cell_type": "code",
   "execution_count": null,
   "metadata": {},
   "outputs": [],
   "source": []
  },
  {
   "cell_type": "code",
   "execution_count": null,
   "metadata": {},
   "outputs": [],
   "source": []
  }
 ],
 "metadata": {
  "kernelspec": {
   "display_name": "Python 3",
   "language": "python",
   "name": "python3"
  },
  "language_info": {
   "codemirror_mode": {
    "name": "ipython",
    "version": 3
   },
   "file_extension": ".py",
   "mimetype": "text/x-python",
   "name": "python",
   "nbconvert_exporter": "python",
   "pygments_lexer": "ipython3",
   "version": "3.6.5"
  }
 },
 "nbformat": 4,
 "nbformat_minor": 4
}
