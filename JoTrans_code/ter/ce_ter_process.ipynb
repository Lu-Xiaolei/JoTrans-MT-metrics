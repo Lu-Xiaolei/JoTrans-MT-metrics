{
 "cells": [
  {
   "cell_type": "code",
   "execution_count": null,
   "metadata": {},
   "outputs": [],
   "source": [
    "import os\n",
    "import nltk\n",
    "import pyter\n",
    "from nltk.tokenize import RegexpTokenizer\n",
    "\n",
    "tokenizer = RegexpTokenizer(r'\\w+')"
   ]
  },
  {
   "cell_type": "code",
   "execution_count": null,
   "metadata": {},
   "outputs": [],
   "source": [
    "tokenizer.tokenize(\"he, is a boy\")"
   ]
  },
  {
   "cell_type": "code",
   "execution_count": null,
   "metadata": {},
   "outputs": [],
   "source": [
    "def remove_punction(str_):\n",
    "    new_str = tokenizer.tokenize(str_)\n",
    "    return \" \".join(new_str)"
   ]
  },
  {
   "cell_type": "code",
   "execution_count": null,
   "metadata": {},
   "outputs": [],
   "source": [
    "refs = []\n",
    "with open(\"./data/references/CE/1.CE ref.txt\", encoding=\"utf8\") as f:\n",
    "    refs.append(f.readlines())\n",
    "with open(\"./data/references/CE/2.CE ref.txt\", encoding=\"utf8\") as f:\n",
    "    refs.append(f.readlines())\n",
    "with open(\"./data/references/CE/3.CE ref.txt\", encoding=\"utf8\") as f:\n",
    "    refs.append(f.readlines())\n",
    "\n",
    "p_refs = []\n",
    "n=0\n",
    "for ref in refs:\n",
    "    t = []\n",
    "    n+=1\n",
    "    for s in ref:\n",
    "        if len(s)>1:\n",
    "            a=s[s.index(\".\")+1:].strip().lower()\n",
    "            t.append(a)\n",
    "    p_refs.append(t)\n",
    "refs = p_refs\n",
    "  \n",
    "file_path = \"./data/C-to-E-Sentence/\"\n",
    "\n",
    "files = []\n",
    "for i,j,k in os.walk(file_path):\n",
    "    files.extend(k)"
   ]
  },
  {
   "cell_type": "code",
   "execution_count": null,
   "metadata": {},
   "outputs": [],
   "source": [
    "refs"
   ]
  },
  {
   "cell_type": "code",
   "execution_count": null,
   "metadata": {},
   "outputs": [],
   "source": [
    "files"
   ]
  },
  {
   "cell_type": "code",
   "execution_count": null,
   "metadata": {},
   "outputs": [],
   "source": [
    "for l in range(len(refs[0])):\n",
    "    for r in refs:\n",
    "        with open(\"3ref_ce.txt\", \"a\") as f:\n",
    "            f.write(remove_punction(r[l])+ \"(\"+str(l)+\")\"+\"\\n\")"
   ]
  },
  {
   "cell_type": "code",
   "execution_count": null,
   "metadata": {},
   "outputs": [],
   "source": [
    "for fn in files:\n",
    "    with open(file_path+fn, \"r\", encoding=\"utf8\") as f:\n",
    "        pgs = f.readlines()\n",
    "        pgs_up = []\n",
    "        for pg in pgs:\n",
    "            n+=1\n",
    "            if len(pg)>1:\n",
    "                a=pg[pg.index(\".\")+1:].strip().lower()\n",
    "            pgs_up.append(a)\n",
    "        i = 0\n",
    "        for p in pgs_up:\n",
    "            with open(\"./ter_ce/\"+fn,\"a\", encoding=\"utf8\") as f:\n",
    "                f.write(remove_punction(p)+\"(\"+str(i)+\")\"+\"\\n\")\n",
    "                i+=1"
   ]
  },
  {
   "cell_type": "code",
   "execution_count": null,
   "metadata": {},
   "outputs": [],
   "source": []
  },
  {
   "cell_type": "code",
   "execution_count": null,
   "metadata": {},
   "outputs": [],
   "source": []
  }
 ],
 "metadata": {
  "kernelspec": {
   "display_name": "Python 3",
   "language": "python",
   "name": "python3"
  },
  "language_info": {
   "codemirror_mode": {
    "name": "ipython",
    "version": 3
   },
   "file_extension": ".py",
   "mimetype": "text/x-python",
   "name": "python",
   "nbconvert_exporter": "python",
   "pygments_lexer": "ipython3",
   "version": "3.6.5"
  }
 },
 "nbformat": 4,
 "nbformat_minor": 4
}
